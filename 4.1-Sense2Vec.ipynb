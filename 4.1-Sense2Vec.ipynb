{
 "cells": [
  {
   "cell_type": "code",
   "execution_count": 31,
   "metadata": {},
   "outputs": [],
   "source": [
    "import spacy, sense2vec\n",
    "from sense2vec import Sense2VecComponent\n",
    "from sense2vec.vectors import VectorMap\n",
    "import en_core_web_md as en\n",
    "from gensim.models import Word2Vec"
   ]
  },
  {
   "cell_type": "code",
   "execution_count": 18,
   "metadata": {},
   "outputs": [],
   "source": [
    "nlp = en.load()\n",
    "doc = nlp(u'the rabbit was running')\n",
    "gensim_model = Word2Vec.load('/media/DATA/Repo/text-preprocessing/models/gutenberg_w2v.model')\n",
    "vector_map = VectorMap(128)"
   ]
  },
  {
   "cell_type": "code",
   "execution_count": 19,
   "metadata": {},
   "outputs": [],
   "source": [
    "min_count = None\n",
    "if min_count is None:\n",
    "    min_count = gensim_model.vocabulary.min_count"
   ]
  },
  {
   "cell_type": "code",
   "execution_count": 20,
   "metadata": {},
   "outputs": [],
   "source": [
    "for string in gensim_model.wv.vocab:\n",
    "    vocab = gensim_model.wv.vocab[string]\n",
    "    freq, idx = vocab.count, vocab.index\n",
    "    if freq < min_count:\n",
    "        continue\n",
    "    vector = gensim_model.wv.vectors[idx]\n",
    "    vector_map.borrow(string, freq, vector)"
   ]
  },
  {
   "cell_type": "code",
   "execution_count": 21,
   "metadata": {},
   "outputs": [],
   "source": [
    "vector_map.save('/media/DATA/Repo/text-preprocessing/models/')"
   ]
  },
  {
   "cell_type": "code",
   "execution_count": 32,
   "metadata": {},
   "outputs": [],
   "source": [
    "s2v = sense2vec.load('/media/DATA/Repo/text-preprocessing/models/')"
   ]
  },
  {
   "cell_type": "code",
   "execution_count": 23,
   "metadata": {},
   "outputs": [],
   "source": [
    "#nlp = es.load()\n",
    "nlp.add_pipe(s2v)"
   ]
  },
  {
   "cell_type": "code",
   "execution_count": 48,
   "metadata": {},
   "outputs": [],
   "source": [
    "#doc = nlp(u'Troyano es un tipo de virus informático')\n",
    "#doc[1]._.s2v_most_similar(20)\n",
    "freq, queryv = s2v[u\"cask\"]"
   ]
  },
  {
   "cell_type": "code",
   "execution_count": 50,
   "metadata": {},
   "outputs": [
    {
     "data": {
      "text/plain": [
       "['cask', 'gulf', 'craft']"
      ]
     },
     "execution_count": 50,
     "metadata": {},
     "output_type": "execute_result"
    }
   ],
   "source": [
    "s2v.most_similar(queryv,3)[0]"
   ]
  },
  {
   "cell_type": "code",
   "execution_count": 51,
   "metadata": {},
   "outputs": [],
   "source": [
    "import plac"
   ]
  },
  {
   "cell_type": "code",
   "execution_count": 53,
   "metadata": {},
   "outputs": [
    {
     "data": {
      "text/plain": [
       "\u001b[0;31mDocstring:\u001b[0m\n",
       "Find the keys of the N most similar entries, given a vector.\n",
       "\n",
       "Arguments:\n",
       "    vector float[:]\n",
       "    n int default=10\n",
       "\n",
       "Returns:\n",
       "    list[unicode] length<=n\n",
       "\u001b[0;31mType:\u001b[0m      builtin_function_or_method\n"
      ]
     },
     "metadata": {},
     "output_type": "display_data"
    }
   ],
   "source": [
    "?"
   ]
  }
 ],
 "metadata": {
  "kernelspec": {
   "display_name": "Python 3",
   "language": "python",
   "name": "python3"
  },
  "language_info": {
   "codemirror_mode": {
    "name": "ipython",
    "version": 3
   },
   "file_extension": ".py",
   "mimetype": "text/x-python",
   "name": "python",
   "nbconvert_exporter": "python",
   "pygments_lexer": "ipython3",
   "version": "3.5.3"
  }
 },
 "nbformat": 4,
 "nbformat_minor": 2
}
